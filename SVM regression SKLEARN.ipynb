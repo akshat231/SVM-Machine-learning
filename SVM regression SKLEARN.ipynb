{
    "cells": [
        {
            "cell_type": "code",
            "execution_count": 1,
            "source": [
                "import numpy as np  \r\n",
                "import pandas as pd \r\n",
                "# for graphical look for another .ipynb file as data is same"
            ],
            "outputs": [],
            "metadata": {}
        },
        {
            "cell_type": "code",
            "execution_count": 2,
            "source": [
                "df=pd.read_csv('USA_Housing.csv')"
            ],
            "outputs": [],
            "metadata": {}
        },
        {
            "cell_type": "code",
            "execution_count": 3,
            "source": [
                "df.head()"
            ],
            "outputs": [
                {
                    "output_type": "execute_result",
                    "data": {
                        "text/plain": [
                            "   Avg. Area Income  Avg. Area House Age  Avg. Area Number of Rooms  \\\n",
                            "0      79545.458574             5.682861                   7.009188   \n",
                            "1      79248.642455             6.002900                   6.730821   \n",
                            "2      61287.067179             5.865890                   8.512727   \n",
                            "3      63345.240046             7.188236                   5.586729   \n",
                            "4      59982.197226             5.040555                   7.839388   \n",
                            "\n",
                            "   Avg. Area Number of Bedrooms  Area Population         Price  \\\n",
                            "0                          4.09     23086.800503  1.059034e+06   \n",
                            "1                          3.09     40173.072174  1.505891e+06   \n",
                            "2                          5.13     36882.159400  1.058988e+06   \n",
                            "3                          3.26     34310.242831  1.260617e+06   \n",
                            "4                          4.23     26354.109472  6.309435e+05   \n",
                            "\n",
                            "                                             Address  \n",
                            "0  208 Michael Ferry Apt. 674\\nLaurabury, NE 3701...  \n",
                            "1  188 Johnson Views Suite 079\\nLake Kathleen, CA...  \n",
                            "2  9127 Elizabeth Stravenue\\nDanieltown, WI 06482...  \n",
                            "3                          USS Barnett\\nFPO AP 44820  \n",
                            "4                         USNS Raymond\\nFPO AE 09386  "
                        ],
                        "text/html": [
                            "<div>\n",
                            "<style scoped>\n",
                            "    .dataframe tbody tr th:only-of-type {\n",
                            "        vertical-align: middle;\n",
                            "    }\n",
                            "\n",
                            "    .dataframe tbody tr th {\n",
                            "        vertical-align: top;\n",
                            "    }\n",
                            "\n",
                            "    .dataframe thead th {\n",
                            "        text-align: right;\n",
                            "    }\n",
                            "</style>\n",
                            "<table border=\"1\" class=\"dataframe\">\n",
                            "  <thead>\n",
                            "    <tr style=\"text-align: right;\">\n",
                            "      <th></th>\n",
                            "      <th>Avg. Area Income</th>\n",
                            "      <th>Avg. Area House Age</th>\n",
                            "      <th>Avg. Area Number of Rooms</th>\n",
                            "      <th>Avg. Area Number of Bedrooms</th>\n",
                            "      <th>Area Population</th>\n",
                            "      <th>Price</th>\n",
                            "      <th>Address</th>\n",
                            "    </tr>\n",
                            "  </thead>\n",
                            "  <tbody>\n",
                            "    <tr>\n",
                            "      <th>0</th>\n",
                            "      <td>79545.458574</td>\n",
                            "      <td>5.682861</td>\n",
                            "      <td>7.009188</td>\n",
                            "      <td>4.09</td>\n",
                            "      <td>23086.800503</td>\n",
                            "      <td>1.059034e+06</td>\n",
                            "      <td>208 Michael Ferry Apt. 674\\nLaurabury, NE 3701...</td>\n",
                            "    </tr>\n",
                            "    <tr>\n",
                            "      <th>1</th>\n",
                            "      <td>79248.642455</td>\n",
                            "      <td>6.002900</td>\n",
                            "      <td>6.730821</td>\n",
                            "      <td>3.09</td>\n",
                            "      <td>40173.072174</td>\n",
                            "      <td>1.505891e+06</td>\n",
                            "      <td>188 Johnson Views Suite 079\\nLake Kathleen, CA...</td>\n",
                            "    </tr>\n",
                            "    <tr>\n",
                            "      <th>2</th>\n",
                            "      <td>61287.067179</td>\n",
                            "      <td>5.865890</td>\n",
                            "      <td>8.512727</td>\n",
                            "      <td>5.13</td>\n",
                            "      <td>36882.159400</td>\n",
                            "      <td>1.058988e+06</td>\n",
                            "      <td>9127 Elizabeth Stravenue\\nDanieltown, WI 06482...</td>\n",
                            "    </tr>\n",
                            "    <tr>\n",
                            "      <th>3</th>\n",
                            "      <td>63345.240046</td>\n",
                            "      <td>7.188236</td>\n",
                            "      <td>5.586729</td>\n",
                            "      <td>3.26</td>\n",
                            "      <td>34310.242831</td>\n",
                            "      <td>1.260617e+06</td>\n",
                            "      <td>USS Barnett\\nFPO AP 44820</td>\n",
                            "    </tr>\n",
                            "    <tr>\n",
                            "      <th>4</th>\n",
                            "      <td>59982.197226</td>\n",
                            "      <td>5.040555</td>\n",
                            "      <td>7.839388</td>\n",
                            "      <td>4.23</td>\n",
                            "      <td>26354.109472</td>\n",
                            "      <td>6.309435e+05</td>\n",
                            "      <td>USNS Raymond\\nFPO AE 09386</td>\n",
                            "    </tr>\n",
                            "  </tbody>\n",
                            "</table>\n",
                            "</div>"
                        ]
                    },
                    "metadata": {},
                    "execution_count": 3
                }
            ],
            "metadata": {}
        },
        {
            "cell_type": "code",
            "execution_count": 4,
            "source": [
                "df=df.drop('Address',axis=1)"
            ],
            "outputs": [],
            "metadata": {}
        },
        {
            "cell_type": "code",
            "execution_count": null,
            "source": [],
            "outputs": [],
            "metadata": {}
        },
        {
            "cell_type": "code",
            "execution_count": 5,
            "source": [
                "df.head()"
            ],
            "outputs": [
                {
                    "output_type": "execute_result",
                    "data": {
                        "text/plain": [
                            "   Avg. Area Income  Avg. Area House Age  Avg. Area Number of Rooms  \\\n",
                            "0      79545.458574             5.682861                   7.009188   \n",
                            "1      79248.642455             6.002900                   6.730821   \n",
                            "2      61287.067179             5.865890                   8.512727   \n",
                            "3      63345.240046             7.188236                   5.586729   \n",
                            "4      59982.197226             5.040555                   7.839388   \n",
                            "\n",
                            "   Avg. Area Number of Bedrooms  Area Population         Price  \n",
                            "0                          4.09     23086.800503  1.059034e+06  \n",
                            "1                          3.09     40173.072174  1.505891e+06  \n",
                            "2                          5.13     36882.159400  1.058988e+06  \n",
                            "3                          3.26     34310.242831  1.260617e+06  \n",
                            "4                          4.23     26354.109472  6.309435e+05  "
                        ],
                        "text/html": [
                            "<div>\n",
                            "<style scoped>\n",
                            "    .dataframe tbody tr th:only-of-type {\n",
                            "        vertical-align: middle;\n",
                            "    }\n",
                            "\n",
                            "    .dataframe tbody tr th {\n",
                            "        vertical-align: top;\n",
                            "    }\n",
                            "\n",
                            "    .dataframe thead th {\n",
                            "        text-align: right;\n",
                            "    }\n",
                            "</style>\n",
                            "<table border=\"1\" class=\"dataframe\">\n",
                            "  <thead>\n",
                            "    <tr style=\"text-align: right;\">\n",
                            "      <th></th>\n",
                            "      <th>Avg. Area Income</th>\n",
                            "      <th>Avg. Area House Age</th>\n",
                            "      <th>Avg. Area Number of Rooms</th>\n",
                            "      <th>Avg. Area Number of Bedrooms</th>\n",
                            "      <th>Area Population</th>\n",
                            "      <th>Price</th>\n",
                            "    </tr>\n",
                            "  </thead>\n",
                            "  <tbody>\n",
                            "    <tr>\n",
                            "      <th>0</th>\n",
                            "      <td>79545.458574</td>\n",
                            "      <td>5.682861</td>\n",
                            "      <td>7.009188</td>\n",
                            "      <td>4.09</td>\n",
                            "      <td>23086.800503</td>\n",
                            "      <td>1.059034e+06</td>\n",
                            "    </tr>\n",
                            "    <tr>\n",
                            "      <th>1</th>\n",
                            "      <td>79248.642455</td>\n",
                            "      <td>6.002900</td>\n",
                            "      <td>6.730821</td>\n",
                            "      <td>3.09</td>\n",
                            "      <td>40173.072174</td>\n",
                            "      <td>1.505891e+06</td>\n",
                            "    </tr>\n",
                            "    <tr>\n",
                            "      <th>2</th>\n",
                            "      <td>61287.067179</td>\n",
                            "      <td>5.865890</td>\n",
                            "      <td>8.512727</td>\n",
                            "      <td>5.13</td>\n",
                            "      <td>36882.159400</td>\n",
                            "      <td>1.058988e+06</td>\n",
                            "    </tr>\n",
                            "    <tr>\n",
                            "      <th>3</th>\n",
                            "      <td>63345.240046</td>\n",
                            "      <td>7.188236</td>\n",
                            "      <td>5.586729</td>\n",
                            "      <td>3.26</td>\n",
                            "      <td>34310.242831</td>\n",
                            "      <td>1.260617e+06</td>\n",
                            "    </tr>\n",
                            "    <tr>\n",
                            "      <th>4</th>\n",
                            "      <td>59982.197226</td>\n",
                            "      <td>5.040555</td>\n",
                            "      <td>7.839388</td>\n",
                            "      <td>4.23</td>\n",
                            "      <td>26354.109472</td>\n",
                            "      <td>6.309435e+05</td>\n",
                            "    </tr>\n",
                            "  </tbody>\n",
                            "</table>\n",
                            "</div>"
                        ]
                    },
                    "metadata": {},
                    "execution_count": 5
                }
            ],
            "metadata": {}
        },
        {
            "cell_type": "code",
            "execution_count": 6,
            "source": [
                "from sklearn.preprocessing import MinMaxScaler"
            ],
            "outputs": [],
            "metadata": {}
        },
        {
            "cell_type": "code",
            "execution_count": 7,
            "source": [
                "df.shape"
            ],
            "outputs": [
                {
                    "output_type": "execute_result",
                    "data": {
                        "text/plain": [
                            "(5000, 6)"
                        ]
                    },
                    "metadata": {},
                    "execution_count": 7
                }
            ],
            "metadata": {}
        },
        {
            "cell_type": "code",
            "execution_count": 8,
            "source": [
                "X=df.drop('Price',axis=1)"
            ],
            "outputs": [],
            "metadata": {}
        },
        {
            "cell_type": "code",
            "execution_count": 9,
            "source": [
                "Y=df['Price']"
            ],
            "outputs": [],
            "metadata": {}
        },
        {
            "cell_type": "code",
            "execution_count": 10,
            "source": [
                "scaler=MinMaxScaler()"
            ],
            "outputs": [],
            "metadata": {}
        },
        {
            "cell_type": "code",
            "execution_count": 11,
            "source": [
                "from sklearn.model_selection import train_test_split"
            ],
            "outputs": [],
            "metadata": {}
        },
        {
            "cell_type": "code",
            "execution_count": 12,
            "source": [
                "X_train,X_test,y_train,y_test=train_test_split(X,Y,random_state=101,train_size=0.7)"
            ],
            "outputs": [],
            "metadata": {}
        },
        {
            "cell_type": "code",
            "execution_count": 13,
            "source": [
                "X_train=scaler.fit_transform(X_train)\r\n",
                "X_test=scaler.fit_transform(X_test)"
            ],
            "outputs": [],
            "metadata": {}
        },
        {
            "cell_type": "code",
            "execution_count": 14,
            "source": [
                "X_train.shape,X_test.shape"
            ],
            "outputs": [
                {
                    "output_type": "execute_result",
                    "data": {
                        "text/plain": [
                            "((3500, 5), (1500, 5))"
                        ]
                    },
                    "metadata": {},
                    "execution_count": 14
                }
            ],
            "metadata": {}
        },
        {
            "cell_type": "code",
            "execution_count": 15,
            "source": [
                "from sklearn.svm import SVR"
            ],
            "outputs": [],
            "metadata": {}
        },
        {
            "cell_type": "code",
            "execution_count": 16,
            "source": [
                "linmodel=SVR()"
            ],
            "outputs": [],
            "metadata": {}
        },
        {
            "cell_type": "code",
            "execution_count": 17,
            "source": [
                "linmodel.fit(X_train,y_train)"
            ],
            "outputs": [
                {
                    "output_type": "execute_result",
                    "data": {
                        "text/plain": [
                            "SVR()"
                        ]
                    },
                    "metadata": {},
                    "execution_count": 17
                }
            ],
            "metadata": {}
        },
        {
            "cell_type": "code",
            "execution_count": 18,
            "source": [
                "linmodel.score(X_test,y_test)"
            ],
            "outputs": [
                {
                    "output_type": "execute_result",
                    "data": {
                        "text/plain": [
                            "-0.00024081791963848076"
                        ]
                    },
                    "metadata": {},
                    "execution_count": 18
                }
            ],
            "metadata": {}
        },
        {
            "cell_type": "code",
            "execution_count": 19,
            "source": [
                "from sklearn.metrics import mean_squared_error"
            ],
            "outputs": [],
            "metadata": {}
        },
        {
            "cell_type": "code",
            "execution_count": 20,
            "source": [
                "Prediction=linmodel.predict(X_test)"
            ],
            "outputs": [],
            "metadata": {}
        },
        {
            "cell_type": "code",
            "execution_count": 21,
            "source": [
                "mean_squared_error(y_test,Prediction)"
            ],
            "outputs": [
                {
                    "output_type": "execute_result",
                    "data": {
                        "text/plain": [
                            "124813928301.6622"
                        ]
                    },
                    "metadata": {},
                    "execution_count": 21
                }
            ],
            "metadata": {}
        },
        {
            "cell_type": "code",
            "execution_count": 22,
            "source": [
                "from sklearn.model_selection import GridSearchCV"
            ],
            "outputs": [],
            "metadata": {}
        },
        {
            "cell_type": "code",
            "execution_count": 23,
            "source": [
                "param_grid={'C':[10000000,1000000,100000,10000],'gamma': [1,0.1,0.001]}"
            ],
            "outputs": [],
            "metadata": {}
        },
        {
            "cell_type": "code",
            "execution_count": 24,
            "source": [
                "grid=GridSearchCV(SVR(tol=0.00001),param_grid,verbose=3,cv=10)"
            ],
            "outputs": [],
            "metadata": {}
        },
        {
            "cell_type": "code",
            "execution_count": 25,
            "source": [
                "grid.fit(X_train,y_train)"
            ],
            "outputs": [
                {
                    "output_type": "stream",
                    "name": "stdout",
                    "text": [
                        "Fitting 10 folds for each of 12 candidates, totalling 120 fits\n",
                        "[CV 1/10] END ..............C=10000000, gamma=1;, score=0.903 total time=   7.5s\n",
                        "[CV 2/10] END ..............C=10000000, gamma=1;, score=0.919 total time=   5.1s\n",
                        "[CV 3/10] END ..............C=10000000, gamma=1;, score=0.918 total time=   4.5s\n",
                        "[CV 4/10] END ..............C=10000000, gamma=1;, score=0.911 total time=   5.6s\n",
                        "[CV 5/10] END ..............C=10000000, gamma=1;, score=0.910 total time=   6.1s\n",
                        "[CV 6/10] END ..............C=10000000, gamma=1;, score=0.916 total time=   6.1s\n",
                        "[CV 7/10] END ..............C=10000000, gamma=1;, score=0.916 total time=   7.0s\n",
                        "[CV 8/10] END ..............C=10000000, gamma=1;, score=0.908 total time=   5.4s\n",
                        "[CV 9/10] END ..............C=10000000, gamma=1;, score=0.906 total time=   6.0s\n",
                        "[CV 10/10] END .............C=10000000, gamma=1;, score=0.924 total time=   9.4s\n",
                        "[CV 1/10] END ............C=10000000, gamma=0.1;, score=0.904 total time=   1.1s\n",
                        "[CV 2/10] END ............C=10000000, gamma=0.1;, score=0.922 total time=   1.6s\n",
                        "[CV 3/10] END ............C=10000000, gamma=0.1;, score=0.920 total time=   1.0s\n",
                        "[CV 4/10] END ............C=10000000, gamma=0.1;, score=0.916 total time=   1.0s\n",
                        "[CV 5/10] END ............C=10000000, gamma=0.1;, score=0.915 total time=   1.0s\n",
                        "[CV 6/10] END ............C=10000000, gamma=0.1;, score=0.919 total time=   1.0s\n",
                        "[CV 7/10] END ............C=10000000, gamma=0.1;, score=0.921 total time=   1.2s\n",
                        "[CV 8/10] END ............C=10000000, gamma=0.1;, score=0.913 total time=   1.1s\n",
                        "[CV 9/10] END ............C=10000000, gamma=0.1;, score=0.911 total time=   1.1s\n",
                        "[CV 10/10] END ...........C=10000000, gamma=0.1;, score=0.928 total time=   1.0s\n",
                        "[CV 1/10] END ..........C=10000000, gamma=0.001;, score=0.897 total time=   0.8s\n",
                        "[CV 2/10] END ..........C=10000000, gamma=0.001;, score=0.912 total time=   0.8s\n",
                        "[CV 3/10] END ..........C=10000000, gamma=0.001;, score=0.912 total time=   0.8s\n",
                        "[CV 4/10] END ..........C=10000000, gamma=0.001;, score=0.906 total time=   0.7s\n",
                        "[CV 5/10] END ..........C=10000000, gamma=0.001;, score=0.906 total time=   0.7s\n",
                        "[CV 6/10] END ..........C=10000000, gamma=0.001;, score=0.910 total time=   0.8s\n",
                        "[CV 7/10] END ..........C=10000000, gamma=0.001;, score=0.913 total time=   0.8s\n",
                        "[CV 8/10] END ..........C=10000000, gamma=0.001;, score=0.907 total time=   0.8s\n",
                        "[CV 9/10] END ..........C=10000000, gamma=0.001;, score=0.908 total time=   0.7s\n",
                        "[CV 10/10] END .........C=10000000, gamma=0.001;, score=0.922 total time=   0.8s\n",
                        "[CV 1/10] END ...............C=1000000, gamma=1;, score=0.904 total time=   1.1s\n",
                        "[CV 2/10] END ...............C=1000000, gamma=1;, score=0.921 total time=   1.0s\n",
                        "[CV 3/10] END ...............C=1000000, gamma=1;, score=0.919 total time=   1.1s\n",
                        "[CV 4/10] END ...............C=1000000, gamma=1;, score=0.913 total time=   1.3s\n",
                        "[CV 5/10] END ...............C=1000000, gamma=1;, score=0.910 total time=   1.0s\n",
                        "[CV 6/10] END ...............C=1000000, gamma=1;, score=0.917 total time=   1.1s\n",
                        "[CV 7/10] END ...............C=1000000, gamma=1;, score=0.918 total time=   1.0s\n",
                        "[CV 8/10] END ...............C=1000000, gamma=1;, score=0.907 total time=   1.0s\n",
                        "[CV 9/10] END ...............C=1000000, gamma=1;, score=0.907 total time=   1.1s\n",
                        "[CV 10/10] END ..............C=1000000, gamma=1;, score=0.925 total time=   1.1s\n",
                        "[CV 1/10] END .............C=1000000, gamma=0.1;, score=0.904 total time=   0.8s\n",
                        "[CV 2/10] END .............C=1000000, gamma=0.1;, score=0.923 total time=   0.9s\n",
                        "[CV 3/10] END .............C=1000000, gamma=0.1;, score=0.921 total time=   0.8s\n",
                        "[CV 4/10] END .............C=1000000, gamma=0.1;, score=0.916 total time=   0.8s\n",
                        "[CV 5/10] END .............C=1000000, gamma=0.1;, score=0.915 total time=   0.8s\n",
                        "[CV 6/10] END .............C=1000000, gamma=0.1;, score=0.919 total time=   0.8s\n",
                        "[CV 7/10] END .............C=1000000, gamma=0.1;, score=0.921 total time=   0.8s\n",
                        "[CV 8/10] END .............C=1000000, gamma=0.1;, score=0.914 total time=   0.8s\n",
                        "[CV 9/10] END .............C=1000000, gamma=0.1;, score=0.912 total time=   0.8s\n",
                        "[CV 10/10] END ............C=1000000, gamma=0.1;, score=0.927 total time=   0.8s\n",
                        "[CV 1/10] END ...........C=1000000, gamma=0.001;, score=0.470 total time=   0.7s\n",
                        "[CV 2/10] END ...........C=1000000, gamma=0.001;, score=0.460 total time=   0.7s\n",
                        "[CV 3/10] END ...........C=1000000, gamma=0.001;, score=0.468 total time=   0.8s\n",
                        "[CV 4/10] END ...........C=1000000, gamma=0.001;, score=0.464 total time=   0.7s\n",
                        "[CV 5/10] END ...........C=1000000, gamma=0.001;, score=0.465 total time=   0.8s\n",
                        "[CV 6/10] END ...........C=1000000, gamma=0.001;, score=0.459 total time=   0.8s\n",
                        "[CV 7/10] END ...........C=1000000, gamma=0.001;, score=0.469 total time=   0.8s\n",
                        "[CV 8/10] END ...........C=1000000, gamma=0.001;, score=0.471 total time=   0.8s\n",
                        "[CV 9/10] END ...........C=1000000, gamma=0.001;, score=0.474 total time=   0.8s\n",
                        "[CV 10/10] END ..........C=1000000, gamma=0.001;, score=0.478 total time=   0.8s\n",
                        "[CV 1/10] END ................C=100000, gamma=1;, score=0.903 total time=   0.8s\n",
                        "[CV 2/10] END ................C=100000, gamma=1;, score=0.919 total time=   0.8s\n",
                        "[CV 3/10] END ................C=100000, gamma=1;, score=0.920 total time=   0.8s\n",
                        "[CV 4/10] END ................C=100000, gamma=1;, score=0.911 total time=   0.8s\n",
                        "[CV 5/10] END ................C=100000, gamma=1;, score=0.907 total time=   0.8s\n",
                        "[CV 6/10] END ................C=100000, gamma=1;, score=0.914 total time=   0.7s\n",
                        "[CV 7/10] END ................C=100000, gamma=1;, score=0.918 total time=   1.0s\n",
                        "[CV 8/10] END ................C=100000, gamma=1;, score=0.906 total time=   0.8s\n",
                        "[CV 9/10] END ................C=100000, gamma=1;, score=0.906 total time=   0.8s\n",
                        "[CV 10/10] END ...............C=100000, gamma=1;, score=0.926 total time=   0.8s\n",
                        "[CV 1/10] END ..............C=100000, gamma=0.1;, score=0.897 total time=   0.8s\n",
                        "[CV 2/10] END ..............C=100000, gamma=0.1;, score=0.911 total time=   0.7s\n",
                        "[CV 3/10] END ..............C=100000, gamma=0.1;, score=0.912 total time=   0.7s\n",
                        "[CV 4/10] END ..............C=100000, gamma=0.1;, score=0.905 total time=   0.7s\n",
                        "[CV 5/10] END ..............C=100000, gamma=0.1;, score=0.906 total time=   0.8s\n",
                        "[CV 6/10] END ..............C=100000, gamma=0.1;, score=0.909 total time=   0.7s\n",
                        "[CV 7/10] END ..............C=100000, gamma=0.1;, score=0.913 total time=   0.8s\n",
                        "[CV 8/10] END ..............C=100000, gamma=0.1;, score=0.906 total time=   0.7s\n",
                        "[CV 9/10] END ..............C=100000, gamma=0.1;, score=0.907 total time=   0.8s\n",
                        "[CV 10/10] END .............C=100000, gamma=0.1;, score=0.922 total time=   0.7s\n",
                        "[CV 1/10] END ............C=100000, gamma=0.001;, score=0.059 total time=   0.8s\n",
                        "[CV 2/10] END ............C=100000, gamma=0.001;, score=0.058 total time=   0.8s\n",
                        "[CV 3/10] END ............C=100000, gamma=0.001;, score=0.057 total time=   0.8s\n",
                        "[CV 4/10] END ............C=100000, gamma=0.001;, score=0.058 total time=   0.8s\n",
                        "[CV 5/10] END ............C=100000, gamma=0.001;, score=0.056 total time=   0.8s\n",
                        "[CV 6/10] END ............C=100000, gamma=0.001;, score=0.050 total time=   0.8s\n",
                        "[CV 7/10] END ............C=100000, gamma=0.001;, score=0.052 total time=   0.8s\n",
                        "[CV 8/10] END ............C=100000, gamma=0.001;, score=0.059 total time=   0.8s\n",
                        "[CV 9/10] END ............C=100000, gamma=0.001;, score=0.055 total time=   0.8s\n",
                        "[CV 10/10] END ...........C=100000, gamma=0.001;, score=0.058 total time=   0.8s\n",
                        "[CV 1/10] END .................C=10000, gamma=1;, score=0.884 total time=   0.8s\n",
                        "[CV 2/10] END .................C=10000, gamma=1;, score=0.895 total time=   0.8s\n",
                        "[CV 3/10] END .................C=10000, gamma=1;, score=0.900 total time=   0.8s\n",
                        "[CV 4/10] END .................C=10000, gamma=1;, score=0.886 total time=   0.8s\n",
                        "[CV 5/10] END .................C=10000, gamma=1;, score=0.884 total time=   0.8s\n",
                        "[CV 6/10] END .................C=10000, gamma=1;, score=0.888 total time=   0.8s\n",
                        "[CV 7/10] END .................C=10000, gamma=1;, score=0.898 total time=   0.8s\n",
                        "[CV 8/10] END .................C=10000, gamma=1;, score=0.886 total time=   0.8s\n",
                        "[CV 9/10] END .................C=10000, gamma=1;, score=0.892 total time=   0.8s\n",
                        "[CV 10/10] END ................C=10000, gamma=1;, score=0.910 total time=   0.7s\n",
                        "[CV 1/10] END ...............C=10000, gamma=0.1;, score=0.456 total time=   0.7s\n",
                        "[CV 2/10] END ...............C=10000, gamma=0.1;, score=0.448 total time=   0.8s\n",
                        "[CV 3/10] END ...............C=10000, gamma=0.1;, score=0.456 total time=   0.8s\n",
                        "[CV 4/10] END ...............C=10000, gamma=0.1;, score=0.451 total time=   0.8s\n",
                        "[CV 5/10] END ...............C=10000, gamma=0.1;, score=0.451 total time=   0.8s\n",
                        "[CV 6/10] END ...............C=10000, gamma=0.1;, score=0.445 total time=   0.8s\n",
                        "[CV 7/10] END ...............C=10000, gamma=0.1;, score=0.455 total time=   0.7s\n",
                        "[CV 8/10] END ...............C=10000, gamma=0.1;, score=0.458 total time=   0.7s\n",
                        "[CV 9/10] END ...............C=10000, gamma=0.1;, score=0.461 total time=   0.8s\n",
                        "[CV 10/10] END ..............C=10000, gamma=0.1;, score=0.465 total time=   0.8s\n",
                        "[CV 1/10] END .............C=10000, gamma=0.001;, score=0.006 total time=   0.8s\n",
                        "[CV 2/10] END .............C=10000, gamma=0.001;, score=0.006 total time=   0.8s\n",
                        "[CV 3/10] END .............C=10000, gamma=0.001;, score=0.005 total time=   0.8s\n",
                        "[CV 4/10] END .............C=10000, gamma=0.001;, score=0.005 total time=   0.8s\n",
                        "[CV 5/10] END .............C=10000, gamma=0.001;, score=0.004 total time=   0.8s\n",
                        "[CV 6/10] END ............C=10000, gamma=0.001;, score=-0.002 total time=   0.7s\n",
                        "[CV 7/10] END ............C=10000, gamma=0.001;, score=-0.002 total time=   0.8s\n",
                        "[CV 8/10] END .............C=10000, gamma=0.001;, score=0.006 total time=   0.8s\n",
                        "[CV 9/10] END .............C=10000, gamma=0.001;, score=0.002 total time=   0.8s\n",
                        "[CV 10/10] END ............C=10000, gamma=0.001;, score=0.004 total time=   0.7s\n"
                    ]
                },
                {
                    "output_type": "execute_result",
                    "data": {
                        "text/plain": [
                            "GridSearchCV(cv=10, estimator=SVR(tol=1e-05),\n",
                            "             param_grid={'C': [10000000, 1000000, 100000, 10000],\n",
                            "                         'gamma': [1, 0.1, 0.001]},\n",
                            "             verbose=3)"
                        ]
                    },
                    "metadata": {},
                    "execution_count": 25
                }
            ],
            "metadata": {}
        },
        {
            "cell_type": "code",
            "execution_count": 26,
            "source": [
                "grid.best_params_"
            ],
            "outputs": [
                {
                    "output_type": "execute_result",
                    "data": {
                        "text/plain": [
                            "{'C': 1000000, 'gamma': 0.1}"
                        ]
                    },
                    "metadata": {},
                    "execution_count": 26
                }
            ],
            "metadata": {}
        },
        {
            "cell_type": "code",
            "execution_count": 27,
            "source": [
                "grid_predictions=grid.predict(X_test)\r\n",
                "#predicting"
            ],
            "outputs": [],
            "metadata": {}
        },
        {
            "cell_type": "code",
            "execution_count": 28,
            "source": [
                "mean_squared_error(y_test,grid_predictions)"
            ],
            "outputs": [
                {
                    "output_type": "execute_result",
                    "data": {
                        "text/plain": [
                            "158562171648.59708"
                        ]
                    },
                    "metadata": {},
                    "execution_count": 28
                }
            ],
            "metadata": {}
        },
        {
            "cell_type": "code",
            "execution_count": 38,
            "source": [
                "sd=0\r\n",
                "for i in range(grid_predictions.shape[0]):\r\n",
                "    if abs(grid_predictions[i]-y_test.iloc[i])<=500000:\r\n",
                "        sd=sd+1\r\n",
                "print(sd/len(grid_predictions)) \r\n",
                "#86% accuracy on <=5 lakh"
            ],
            "outputs": [
                {
                    "output_type": "stream",
                    "name": "stdout",
                    "text": [
                        "0.8613333333333333\n"
                    ]
                }
            ],
            "metadata": {}
        },
        {
            "cell_type": "code",
            "execution_count": null,
            "source": [
                "#can tune it better"
            ],
            "outputs": [],
            "metadata": {}
        }
    ],
    "metadata": {
        "orig_nbformat": 4,
        "language_info": {
            "name": "python",
            "version": "3.9.5",
            "mimetype": "text/x-python",
            "codemirror_mode": {
                "name": "ipython",
                "version": 3
            },
            "pygments_lexer": "ipython3",
            "nbconvert_exporter": "python",
            "file_extension": ".py"
        },
        "kernelspec": {
            "name": "python3",
            "display_name": "Python 3.9.5 64-bit"
        },
        "interpreter": {
            "hash": "33dc6d49505b4536b6a128d9d7c879e1fa44477ad44947bbbe73093067fe6393"
        }
    },
    "nbformat": 4,
    "nbformat_minor": 2
}