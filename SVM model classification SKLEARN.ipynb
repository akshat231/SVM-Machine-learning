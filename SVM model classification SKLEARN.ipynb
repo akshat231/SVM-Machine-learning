{
 "metadata": {
  "language_info": {
   "codemirror_mode": {
    "name": "ipython",
    "version": 3
   },
   "file_extension": ".py",
   "mimetype": "text/x-python",
   "name": "python",
   "nbconvert_exporter": "python",
   "pygments_lexer": "ipython3",
   "version": "3.9.5"
  },
  "orig_nbformat": 4,
  "kernelspec": {
   "name": "python3",
   "display_name": "Python 3.9.5 64-bit"
  },
  "interpreter": {
   "hash": "33dc6d49505b4536b6a128d9d7c879e1fa44477ad44947bbbe73093067fe6393"
  }
 },
 "nbformat": 4,
 "nbformat_minor": 2,
 "cells": [
  {
   "cell_type": "code",
   "execution_count": 82,
   "source": [
    "import numpy as np  \r\n",
    "import pandas as pd \r\n",
    "#for graphical analysis,see the earlier files"
   ],
   "outputs": [],
   "metadata": {}
  },
  {
   "cell_type": "code",
   "execution_count": 83,
   "source": [
    "df=pd.read_csv('out.csv')"
   ],
   "outputs": [],
   "metadata": {}
  },
  {
   "cell_type": "code",
   "execution_count": 84,
   "source": [
    "df.head()"
   ],
   "outputs": [
    {
     "output_type": "execute_result",
     "data": {
      "text/plain": [
       "   Unnamed: 0  Survived  Pclass   Age  SibSp  Parch     Fare  male  Q  S\n",
       "0           0         0       3  22.0      1      0   7.2500     1  0  1\n",
       "1           1         1       1  38.0      1      0  71.2833     0  0  0\n",
       "2           2         1       3  26.0      0      0   7.9250     0  0  1\n",
       "3           3         1       1  35.0      1      0  53.1000     0  0  1\n",
       "4           4         0       3  35.0      0      0   8.0500     1  0  1"
      ],
      "text/html": [
       "<div>\n",
       "<style scoped>\n",
       "    .dataframe tbody tr th:only-of-type {\n",
       "        vertical-align: middle;\n",
       "    }\n",
       "\n",
       "    .dataframe tbody tr th {\n",
       "        vertical-align: top;\n",
       "    }\n",
       "\n",
       "    .dataframe thead th {\n",
       "        text-align: right;\n",
       "    }\n",
       "</style>\n",
       "<table border=\"1\" class=\"dataframe\">\n",
       "  <thead>\n",
       "    <tr style=\"text-align: right;\">\n",
       "      <th></th>\n",
       "      <th>Unnamed: 0</th>\n",
       "      <th>Survived</th>\n",
       "      <th>Pclass</th>\n",
       "      <th>Age</th>\n",
       "      <th>SibSp</th>\n",
       "      <th>Parch</th>\n",
       "      <th>Fare</th>\n",
       "      <th>male</th>\n",
       "      <th>Q</th>\n",
       "      <th>S</th>\n",
       "    </tr>\n",
       "  </thead>\n",
       "  <tbody>\n",
       "    <tr>\n",
       "      <th>0</th>\n",
       "      <td>0</td>\n",
       "      <td>0</td>\n",
       "      <td>3</td>\n",
       "      <td>22.0</td>\n",
       "      <td>1</td>\n",
       "      <td>0</td>\n",
       "      <td>7.2500</td>\n",
       "      <td>1</td>\n",
       "      <td>0</td>\n",
       "      <td>1</td>\n",
       "    </tr>\n",
       "    <tr>\n",
       "      <th>1</th>\n",
       "      <td>1</td>\n",
       "      <td>1</td>\n",
       "      <td>1</td>\n",
       "      <td>38.0</td>\n",
       "      <td>1</td>\n",
       "      <td>0</td>\n",
       "      <td>71.2833</td>\n",
       "      <td>0</td>\n",
       "      <td>0</td>\n",
       "      <td>0</td>\n",
       "    </tr>\n",
       "    <tr>\n",
       "      <th>2</th>\n",
       "      <td>2</td>\n",
       "      <td>1</td>\n",
       "      <td>3</td>\n",
       "      <td>26.0</td>\n",
       "      <td>0</td>\n",
       "      <td>0</td>\n",
       "      <td>7.9250</td>\n",
       "      <td>0</td>\n",
       "      <td>0</td>\n",
       "      <td>1</td>\n",
       "    </tr>\n",
       "    <tr>\n",
       "      <th>3</th>\n",
       "      <td>3</td>\n",
       "      <td>1</td>\n",
       "      <td>1</td>\n",
       "      <td>35.0</td>\n",
       "      <td>1</td>\n",
       "      <td>0</td>\n",
       "      <td>53.1000</td>\n",
       "      <td>0</td>\n",
       "      <td>0</td>\n",
       "      <td>1</td>\n",
       "    </tr>\n",
       "    <tr>\n",
       "      <th>4</th>\n",
       "      <td>4</td>\n",
       "      <td>0</td>\n",
       "      <td>3</td>\n",
       "      <td>35.0</td>\n",
       "      <td>0</td>\n",
       "      <td>0</td>\n",
       "      <td>8.0500</td>\n",
       "      <td>1</td>\n",
       "      <td>0</td>\n",
       "      <td>1</td>\n",
       "    </tr>\n",
       "  </tbody>\n",
       "</table>\n",
       "</div>"
      ]
     },
     "metadata": {},
     "execution_count": 84
    }
   ],
   "metadata": {}
  },
  {
   "cell_type": "code",
   "execution_count": 85,
   "source": [
    "df=df.drop('Unnamed: 0',axis=1)"
   ],
   "outputs": [],
   "metadata": {}
  },
  {
   "cell_type": "code",
   "execution_count": 86,
   "source": [
    "df.head()"
   ],
   "outputs": [
    {
     "output_type": "execute_result",
     "data": {
      "text/plain": [
       "   Survived  Pclass   Age  SibSp  Parch     Fare  male  Q  S\n",
       "0         0       3  22.0      1      0   7.2500     1  0  1\n",
       "1         1       1  38.0      1      0  71.2833     0  0  0\n",
       "2         1       3  26.0      0      0   7.9250     0  0  1\n",
       "3         1       1  35.0      1      0  53.1000     0  0  1\n",
       "4         0       3  35.0      0      0   8.0500     1  0  1"
      ],
      "text/html": [
       "<div>\n",
       "<style scoped>\n",
       "    .dataframe tbody tr th:only-of-type {\n",
       "        vertical-align: middle;\n",
       "    }\n",
       "\n",
       "    .dataframe tbody tr th {\n",
       "        vertical-align: top;\n",
       "    }\n",
       "\n",
       "    .dataframe thead th {\n",
       "        text-align: right;\n",
       "    }\n",
       "</style>\n",
       "<table border=\"1\" class=\"dataframe\">\n",
       "  <thead>\n",
       "    <tr style=\"text-align: right;\">\n",
       "      <th></th>\n",
       "      <th>Survived</th>\n",
       "      <th>Pclass</th>\n",
       "      <th>Age</th>\n",
       "      <th>SibSp</th>\n",
       "      <th>Parch</th>\n",
       "      <th>Fare</th>\n",
       "      <th>male</th>\n",
       "      <th>Q</th>\n",
       "      <th>S</th>\n",
       "    </tr>\n",
       "  </thead>\n",
       "  <tbody>\n",
       "    <tr>\n",
       "      <th>0</th>\n",
       "      <td>0</td>\n",
       "      <td>3</td>\n",
       "      <td>22.0</td>\n",
       "      <td>1</td>\n",
       "      <td>0</td>\n",
       "      <td>7.2500</td>\n",
       "      <td>1</td>\n",
       "      <td>0</td>\n",
       "      <td>1</td>\n",
       "    </tr>\n",
       "    <tr>\n",
       "      <th>1</th>\n",
       "      <td>1</td>\n",
       "      <td>1</td>\n",
       "      <td>38.0</td>\n",
       "      <td>1</td>\n",
       "      <td>0</td>\n",
       "      <td>71.2833</td>\n",
       "      <td>0</td>\n",
       "      <td>0</td>\n",
       "      <td>0</td>\n",
       "    </tr>\n",
       "    <tr>\n",
       "      <th>2</th>\n",
       "      <td>1</td>\n",
       "      <td>3</td>\n",
       "      <td>26.0</td>\n",
       "      <td>0</td>\n",
       "      <td>0</td>\n",
       "      <td>7.9250</td>\n",
       "      <td>0</td>\n",
       "      <td>0</td>\n",
       "      <td>1</td>\n",
       "    </tr>\n",
       "    <tr>\n",
       "      <th>3</th>\n",
       "      <td>1</td>\n",
       "      <td>1</td>\n",
       "      <td>35.0</td>\n",
       "      <td>1</td>\n",
       "      <td>0</td>\n",
       "      <td>53.1000</td>\n",
       "      <td>0</td>\n",
       "      <td>0</td>\n",
       "      <td>1</td>\n",
       "    </tr>\n",
       "    <tr>\n",
       "      <th>4</th>\n",
       "      <td>0</td>\n",
       "      <td>3</td>\n",
       "      <td>35.0</td>\n",
       "      <td>0</td>\n",
       "      <td>0</td>\n",
       "      <td>8.0500</td>\n",
       "      <td>1</td>\n",
       "      <td>0</td>\n",
       "      <td>1</td>\n",
       "    </tr>\n",
       "  </tbody>\n",
       "</table>\n",
       "</div>"
      ]
     },
     "metadata": {},
     "execution_count": 86
    }
   ],
   "metadata": {}
  },
  {
   "cell_type": "code",
   "execution_count": 87,
   "source": [
    "df=df.dropna()"
   ],
   "outputs": [],
   "metadata": {}
  },
  {
   "cell_type": "code",
   "execution_count": 88,
   "source": [
    "X=df.drop('Survived',axis=1)"
   ],
   "outputs": [],
   "metadata": {}
  },
  {
   "cell_type": "code",
   "execution_count": 89,
   "source": [
    "Y=df['Survived']"
   ],
   "outputs": [],
   "metadata": {}
  },
  {
   "cell_type": "code",
   "execution_count": 90,
   "source": [
    "from sklearn.model_selection import train_test_split"
   ],
   "outputs": [],
   "metadata": {}
  },
  {
   "cell_type": "code",
   "execution_count": 91,
   "source": [
    "X_train,X_test,y_train,y_test=train_test_split(X,Y,train_size=0.7,random_state=42)"
   ],
   "outputs": [],
   "metadata": {}
  },
  {
   "cell_type": "code",
   "execution_count": 92,
   "source": [
    "X_train.shape,X_test.shape"
   ],
   "outputs": [
    {
     "output_type": "execute_result",
     "data": {
      "text/plain": [
       "((499, 8), (215, 8))"
      ]
     },
     "metadata": {},
     "execution_count": 92
    }
   ],
   "metadata": {}
  },
  {
   "cell_type": "code",
   "execution_count": 93,
   "source": [
    "from sklearn.svm import SVC"
   ],
   "outputs": [],
   "metadata": {}
  },
  {
   "cell_type": "code",
   "execution_count": 94,
   "source": [
    "logmodel=SVC()"
   ],
   "outputs": [],
   "metadata": {}
  },
  {
   "cell_type": "code",
   "execution_count": 95,
   "source": [
    "logmodel.fit(X_train,y_train)"
   ],
   "outputs": [
    {
     "output_type": "execute_result",
     "data": {
      "text/plain": [
       "SVC()"
      ]
     },
     "metadata": {},
     "execution_count": 95
    }
   ],
   "metadata": {}
  },
  {
   "cell_type": "code",
   "execution_count": 96,
   "source": [
    "prediction=logmodel.predict(X_test)"
   ],
   "outputs": [],
   "metadata": {}
  },
  {
   "cell_type": "code",
   "execution_count": 97,
   "source": [
    "from sklearn.metrics import classification_report"
   ],
   "outputs": [],
   "metadata": {}
  },
  {
   "cell_type": "code",
   "execution_count": 98,
   "source": [
    "print(classification_report(prediction,y_test))"
   ],
   "outputs": [
    {
     "output_type": "stream",
     "name": "stdout",
     "text": [
      "              precision    recall  f1-score   support\n",
      "\n",
      "           0       0.90      0.66      0.76       173\n",
      "           1       0.34      0.71      0.46        42\n",
      "\n",
      "    accuracy                           0.67       215\n",
      "   macro avg       0.62      0.69      0.61       215\n",
      "weighted avg       0.79      0.67      0.70       215\n",
      "\n"
     ]
    }
   ],
   "metadata": {}
  },
  {
   "cell_type": "code",
   "execution_count": 99,
   "source": [
    "from sklearn.model_selection import  GridSearchCV"
   ],
   "outputs": [],
   "metadata": {}
  },
  {
   "cell_type": "code",
   "execution_count": 100,
   "source": [
    "grid_params={'C':[100,1000,10000],'gamma':[0.1,0.001,0.0001,0.00001]}"
   ],
   "outputs": [],
   "metadata": {}
  },
  {
   "cell_type": "code",
   "execution_count": 101,
   "source": [
    "grid=GridSearchCV(SVC(tol=0.00001),grid_params,verbose=3,cv=7)"
   ],
   "outputs": [],
   "metadata": {}
  },
  {
   "cell_type": "code",
   "execution_count": 102,
   "source": [
    "grid.fit(X_train,y_train)"
   ],
   "outputs": [
    {
     "output_type": "stream",
     "name": "stdout",
     "text": [
      "Fitting 7 folds for each of 12 candidates, totalling 84 fits\n",
      "[CV 1/7] END ..................C=100, gamma=0.1;, score=0.694 total time=   0.0s\n",
      "[CV 2/7] END ..................C=100, gamma=0.1;, score=0.653 total time=   0.0s\n",
      "[CV 3/7] END ..................C=100, gamma=0.1;, score=0.676 total time=   0.0s\n",
      "[CV 4/7] END ..................C=100, gamma=0.1;, score=0.789 total time=   0.0s\n",
      "[CV 5/7] END ..................C=100, gamma=0.1;, score=0.690 total time=   0.0s\n",
      "[CV 6/7] END ..................C=100, gamma=0.1;, score=0.634 total time=   0.0s\n",
      "[CV 7/7] END ..................C=100, gamma=0.1;, score=0.606 total time=   0.0s\n",
      "[CV 1/7] END ................C=100, gamma=0.001;, score=0.750 total time=   0.0s\n",
      "[CV 2/7] END ................C=100, gamma=0.001;, score=0.806 total time=   0.0s\n",
      "[CV 3/7] END ................C=100, gamma=0.001;, score=0.761 total time=   0.0s\n",
      "[CV 4/7] END ................C=100, gamma=0.001;, score=0.873 total time=   0.0s\n",
      "[CV 5/7] END ................C=100, gamma=0.001;, score=0.803 total time=   0.0s\n",
      "[CV 6/7] END ................C=100, gamma=0.001;, score=0.718 total time=   0.0s\n",
      "[CV 7/7] END ................C=100, gamma=0.001;, score=0.803 total time=   0.0s\n",
      "[CV 1/7] END ...............C=100, gamma=0.0001;, score=0.736 total time=   0.0s\n",
      "[CV 2/7] END ...............C=100, gamma=0.0001;, score=0.792 total time=   0.0s\n",
      "[CV 3/7] END ...............C=100, gamma=0.0001;, score=0.746 total time=   0.0s\n",
      "[CV 4/7] END ...............C=100, gamma=0.0001;, score=0.803 total time=   0.0s\n",
      "[CV 5/7] END ...............C=100, gamma=0.0001;, score=0.775 total time=   0.0s\n",
      "[CV 6/7] END ...............C=100, gamma=0.0001;, score=0.690 total time=   0.0s\n",
      "[CV 7/7] END ...............C=100, gamma=0.0001;, score=0.775 total time=   0.0s\n",
      "[CV 1/7] END ................C=100, gamma=1e-05;, score=0.694 total time=   0.0s\n",
      "[CV 2/7] END ................C=100, gamma=1e-05;, score=0.708 total time=   0.0s\n",
      "[CV 3/7] END ................C=100, gamma=1e-05;, score=0.690 total time=   0.0s\n",
      "[CV 4/7] END ................C=100, gamma=1e-05;, score=0.690 total time=   0.0s\n",
      "[CV 5/7] END ................C=100, gamma=1e-05;, score=0.718 total time=   0.0s\n",
      "[CV 6/7] END ................C=100, gamma=1e-05;, score=0.606 total time=   0.0s\n",
      "[CV 7/7] END ................C=100, gamma=1e-05;, score=0.718 total time=   0.0s\n",
      "[CV 1/7] END .................C=1000, gamma=0.1;, score=0.694 total time=   0.0s\n",
      "[CV 2/7] END .................C=1000, gamma=0.1;, score=0.639 total time=   0.0s\n",
      "[CV 3/7] END .................C=1000, gamma=0.1;, score=0.662 total time=   0.2s\n",
      "[CV 4/7] END .................C=1000, gamma=0.1;, score=0.746 total time=   0.1s\n",
      "[CV 5/7] END .................C=1000, gamma=0.1;, score=0.704 total time=   0.1s\n",
      "[CV 6/7] END .................C=1000, gamma=0.1;, score=0.648 total time=   0.0s\n",
      "[CV 7/7] END .................C=1000, gamma=0.1;, score=0.592 total time=   0.0s\n",
      "[CV 1/7] END ...............C=1000, gamma=0.001;, score=0.750 total time=   0.4s\n",
      "[CV 2/7] END ...............C=1000, gamma=0.001;, score=0.847 total time=   0.2s\n",
      "[CV 3/7] END ...............C=1000, gamma=0.001;, score=0.732 total time=   0.2s\n",
      "[CV 4/7] END ...............C=1000, gamma=0.001;, score=0.873 total time=   0.2s\n",
      "[CV 5/7] END ...............C=1000, gamma=0.001;, score=0.775 total time=   0.2s\n",
      "[CV 6/7] END ...............C=1000, gamma=0.001;, score=0.746 total time=   0.1s\n",
      "[CV 7/7] END ...............C=1000, gamma=0.001;, score=0.831 total time=   0.2s\n",
      "[CV 1/7] END ..............C=1000, gamma=0.0001;, score=0.722 total time=   0.0s\n",
      "[CV 2/7] END ..............C=1000, gamma=0.0001;, score=0.792 total time=   0.0s\n",
      "[CV 3/7] END ..............C=1000, gamma=0.0001;, score=0.746 total time=   0.0s\n",
      "[CV 4/7] END ..............C=1000, gamma=0.0001;, score=0.859 total time=   0.0s\n",
      "[CV 5/7] END ..............C=1000, gamma=0.0001;, score=0.859 total time=   0.1s\n",
      "[CV 6/7] END ..............C=1000, gamma=0.0001;, score=0.718 total time=   0.0s\n",
      "[CV 7/7] END ..............C=1000, gamma=0.0001;, score=0.803 total time=   0.0s\n",
      "[CV 1/7] END ...............C=1000, gamma=1e-05;, score=0.708 total time=   0.0s\n",
      "[CV 2/7] END ...............C=1000, gamma=1e-05;, score=0.792 total time=   0.0s\n",
      "[CV 3/7] END ...............C=1000, gamma=1e-05;, score=0.775 total time=   0.0s\n",
      "[CV 4/7] END ...............C=1000, gamma=1e-05;, score=0.789 total time=   0.0s\n",
      "[CV 5/7] END ...............C=1000, gamma=1e-05;, score=0.803 total time=   0.0s\n",
      "[CV 6/7] END ...............C=1000, gamma=1e-05;, score=0.718 total time=   0.0s\n",
      "[CV 7/7] END ...............C=1000, gamma=1e-05;, score=0.789 total time=   0.0s\n",
      "[CV 1/7] END ................C=10000, gamma=0.1;, score=0.667 total time=   0.0s\n",
      "[CV 2/7] END ................C=10000, gamma=0.1;, score=0.625 total time=   0.0s\n",
      "[CV 3/7] END ................C=10000, gamma=0.1;, score=0.704 total time=   0.3s\n",
      "[CV 4/7] END ................C=10000, gamma=0.1;, score=0.732 total time=   0.9s\n",
      "[CV 5/7] END ................C=10000, gamma=0.1;, score=0.718 total time=   0.4s\n",
      "[CV 6/7] END ................C=10000, gamma=0.1;, score=0.676 total time=   0.0s\n",
      "[CV 7/7] END ................C=10000, gamma=0.1;, score=0.592 total time=   0.0s\n",
      "[CV 1/7] END ..............C=10000, gamma=0.001;, score=0.764 total time=   2.1s\n",
      "[CV 2/7] END ..............C=10000, gamma=0.001;, score=0.792 total time=   4.6s\n",
      "[CV 3/7] END ..............C=10000, gamma=0.001;, score=0.775 total time=   3.2s\n",
      "[CV 4/7] END ..............C=10000, gamma=0.001;, score=0.887 total time=   2.3s\n",
      "[CV 5/7] END ..............C=10000, gamma=0.001;, score=0.761 total time=   1.9s\n",
      "[CV 6/7] END ..............C=10000, gamma=0.001;, score=0.746 total time=   2.3s\n",
      "[CV 7/7] END ..............C=10000, gamma=0.001;, score=0.775 total time=   2.5s\n",
      "[CV 1/7] END .............C=10000, gamma=0.0001;, score=0.736 total time=   1.8s\n",
      "[CV 2/7] END .............C=10000, gamma=0.0001;, score=0.806 total time=   1.0s\n",
      "[CV 3/7] END .............C=10000, gamma=0.0001;, score=0.789 total time=   0.7s\n",
      "[CV 4/7] END .............C=10000, gamma=0.0001;, score=0.859 total time=   1.2s\n",
      "[CV 5/7] END .............C=10000, gamma=0.0001;, score=0.859 total time=   0.4s\n",
      "[CV 6/7] END .............C=10000, gamma=0.0001;, score=0.704 total time=   0.4s\n",
      "[CV 7/7] END .............C=10000, gamma=0.0001;, score=0.803 total time=   0.5s\n",
      "[CV 1/7] END ..............C=10000, gamma=1e-05;, score=0.750 total time=   0.0s\n",
      "[CV 2/7] END ..............C=10000, gamma=1e-05;, score=0.819 total time=   0.0s\n",
      "[CV 3/7] END ..............C=10000, gamma=1e-05;, score=0.746 total time=   0.2s\n",
      "[CV 4/7] END ..............C=10000, gamma=1e-05;, score=0.831 total time=   0.3s\n",
      "[CV 5/7] END ..............C=10000, gamma=1e-05;, score=0.859 total time=   0.2s\n",
      "[CV 6/7] END ..............C=10000, gamma=1e-05;, score=0.775 total time=   0.1s\n",
      "[CV 7/7] END ..............C=10000, gamma=1e-05;, score=0.775 total time=   0.1s\n"
     ]
    },
    {
     "output_type": "execute_result",
     "data": {
      "text/plain": [
       "GridSearchCV(cv=7, estimator=SVC(tol=1e-05),\n",
       "             param_grid={'C': [100, 1000, 10000],\n",
       "                         'gamma': [0.1, 0.001, 0.0001, 1e-05]},\n",
       "             verbose=3)"
      ]
     },
     "metadata": {},
     "execution_count": 102
    }
   ],
   "metadata": {}
  },
  {
   "cell_type": "code",
   "execution_count": 103,
   "source": [
    "grid.best_estimator_"
   ],
   "outputs": [
    {
     "output_type": "execute_result",
     "data": {
      "text/plain": [
       "SVC(C=10000, gamma=0.0001, tol=1e-05)"
      ]
     },
     "metadata": {},
     "execution_count": 103
    }
   ],
   "metadata": {}
  },
  {
   "cell_type": "code",
   "execution_count": 104,
   "source": [
    "grid_predictions=grid.predict(X_test)"
   ],
   "outputs": [],
   "metadata": {}
  },
  {
   "cell_type": "code",
   "execution_count": 105,
   "source": [
    "print(classification_report(grid_predictions,y_test))"
   ],
   "outputs": [
    {
     "output_type": "stream",
     "name": "stdout",
     "text": [
      "              precision    recall  f1-score   support\n",
      "\n",
      "           0       0.86      0.81      0.83       133\n",
      "           1       0.72      0.78      0.75        82\n",
      "\n",
      "    accuracy                           0.80       215\n",
      "   macro avg       0.79      0.80      0.79       215\n",
      "weighted avg       0.80      0.80      0.80       215\n",
      "\n"
     ]
    }
   ],
   "metadata": {}
  },
  {
   "cell_type": "code",
   "execution_count": 106,
   "source": [
    "#80% accuracy"
   ],
   "outputs": [],
   "metadata": {}
  }
 ]
}